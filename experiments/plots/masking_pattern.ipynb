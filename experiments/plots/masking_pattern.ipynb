{
 "cells": [
  {
   "cell_type": "code",
   "execution_count": 1,
   "metadata": {},
   "outputs": [
    {
     "name": "stderr",
     "output_type": "stream",
     "text": [
      "/opt/conda/lib/python3.10/site-packages/torch/utils/_pytree.py:185: FutureWarning: optree is installed but the version is too old to support PyTorch Dynamo in C++ pytree. C++ pytree support is disabled. Please consider upgrading optree using `python3 -m pip install --upgrade 'optree>=0.13.0'`.\n",
      "  warnings.warn(\n"
     ]
    },
    {
     "name": "stdout",
     "output_type": "stream",
     "text": [
      "Seed: 1149496617\n"
     ]
    }
   ],
   "source": [
    "import copy\n",
    "import itertools\n",
    "import os\n",
    "import sys\n",
    "sys.path.append(\"/workspace/mta_vision_transformers/\")\n",
    "from collections import OrderedDict\n",
    "from typing import Any, Callable, Dict, List, Literal, Set, Tuple\n",
    "\n",
    "import matplotlib\n",
    "import matplotlib.colors\n",
    "import numpy as np\n",
    "import einops\n",
    "import torch\n",
    "\n",
    "import torch.nn as nn\n",
    "import torch.nn.functional as Fn\n",
    "import torch.utils.data\n",
    "from matplotlib import pyplot as plt\n",
    "from tensordict import TensorDict\n",
    "from torch.utils._pytree import tree_flatten\n",
    "\n",
    "from infrastructure import utils\n",
    "from dataset.library import DATASETS\n",
    "\n",
    "\n",
    "dataset_name, n_classes = DATASETS[\"Common\"][1]\n",
    "OUTPUT_DIR = \"experiments/plots\"\n",
    "EXPERIMENT_DIR = \"figures\"\n",
    "if not os.path.exists(f\"{OUTPUT_DIR}/{EXPERIMENT_DIR}\"):\n",
    "    os.makedirs(f\"{OUTPUT_DIR}/{EXPERIMENT_DIR}\", exist_ok=True)\n",
    "    \n",
    "# Ocean: 901085904\n",
    "# Rose: 100390212\n",
    "torch.set_printoptions(linewidth=400, sci_mode=False)"
   ]
  },
  {
   "cell_type": "code",
   "execution_count": 7,
   "metadata": {},
   "outputs": [
    {
     "data": {
      "image/png": "[encoded data removed]",
      "text/plain": [
       "<Figure size 1000x500 with 2 Axes>"
      ]
     },
     "metadata": {},
     "output_type": "display_data"
    }
   ],
   "source": [
    "from matplotlib.axes import Axes\n",
    "from matplotlib.patches import Rectangle\n",
    "from PIL import Image\n",
    "\n",
    "from modeling.vit_attention import OpenCLIPAttentionViT\n",
    "from visualize.base import PLOT_SCALE\n",
    "\n",
    "\n",
    "toy_mask = torch.tensor([[True, True, True, False, False, False, False, False]])\n",
    "n = toy_mask.shape[1]\n",
    "\n",
    "type_names = (\"I\", \"II\")\n",
    "descs = (\"\")\n",
    "fig, axs = plt.subplots(nrows=1, ncols=len(type_names), figsize=(PLOT_SCALE * len(type_names), PLOT_SCALE))\n",
    "for ax_idx, type_name in enumerate(type_names):\n",
    "    ax: Axes = axs[ax_idx]\n",
    "    # mask = OpenCLIPAttentionViT.process_mask(toy_mask, mask_type)[0].expand((n, n))\n",
    "    with open(f\"{OUTPUT_DIR}/{EXPERIMENT_DIR}/Type {type_name}.png\", \"rb\") as fp:\n",
    "        im = Image.open(fp).convert(\"RGB\")\n",
    "    ax.text(89, -20, \"$\\mathcal{T}$\", ha=\"center\", va=\"center\", fontsize=24)\n",
    "    ax.text(285, -20, \"$[n] \\setminus \\mathcal{T}$\", ha=\"center\", va=\"center\", fontsize=24)\n",
    "    ax.text(-20, 89, \"$\\mathcal{T}$\", ha=\"center\", va=\"center\", fontsize=24, rotation=\"vertical\")\n",
    "    ax.text(-20, 285, \"$[n] \\setminus \\mathcal{T}$\", ha=\"center\", va=\"center\", fontsize=24, rotation=\"vertical\")\n",
    "        \n",
    "    ax.imshow(im)\n",
    "    ax.axis(\"off\")\n",
    "    ax.set_title(f\"Type {type_name}\", pad=36, fontsize=32)\n",
    "\n",
    "fig.tight_layout()\n",
    "plt.savefig(f\"{OUTPUT_DIR}/{EXPERIMENT_DIR}/masking_patterns.pdf\", bbox_inches=\"tight\")\n",
    "plt.show()"
   ]
  },
  {
   "cell_type": "code",
   "execution_count": null,
   "metadata": {},
   "outputs": [],
   "source": []
  }
 ],
 "metadata": {
  "kernelspec": {
   "display_name": "base",
   "language": "python",
   "name": "python3"
  },
  "language_info": {
   "codemirror_mode": {
    "name": "ipython",
    "version": 3
   },
   "file_extension": ".py",
   "mimetype": "text/x-python",
   "name": "python",
   "nbconvert_exporter": "python",
   "pygments_lexer": "ipython3",
   "version": "3.10.13"
  }
 },
 "nbformat": 4,
 "nbformat_minor": 2
}
