{
 "cells": [
  {
   "cell_type": "code",
   "execution_count": 1,
   "metadata": {},
   "outputs": [
    {
     "name": "stdout",
     "output_type": "stream",
     "text": [
      "Seed: 1149496617\n"
     ]
    }
   ],
   "source": [
    "import copy\n",
    "import itertools\n",
    "import os\n",
    "import sys\n",
    "sys.path.append(\"/workspace/mta_vision_transformers/\")\n",
    "from collections import OrderedDict\n",
    "from typing import Any, Callable, Dict, List, Set, Tuple\n",
    "\n",
    "import matplotlib\n",
    "import matplotlib.colors\n",
    "import numpy as np\n",
    "import einops\n",
    "import torch\n",
    "import torch.nn as nn\n",
    "import torch.nn.functional as Fn\n",
    "import torch.utils.data\n",
    "from matplotlib import pyplot as plt\n",
    "from tensordict import TensorDict\n",
    "from torch.utils._pytree import tree_flatten\n",
    "\n",
    "from core.monitor import Monitor\n",
    "from infrastructure import utils\n",
    "from infrastructure.settings import DEVICE, OUTPUT_DEVICE, DTYPE\n",
    "from dataset.construct import ImageDataset\n",
    "from dataset.library import DATASETS\n",
    "\n",
    "\n",
    "dataset_name, n_classes = DATASETS[\"Common\"][1]\n",
    "OUTPUT_DIR = \"experiments/compression\"\n",
    "if not os.path.exists(OUTPUT_DIR):\n",
    "    os.makedirs(OUTPUT_DIR, exist_ok=True)\n",
    "    \n",
    "# Ocean: 901085904\n",
    "# Rose: 100390212\n",
    "torch.set_printoptions(linewidth=400, sci_mode=False)"
   ]
  },
  {
   "cell_type": "code",
   "execution_count": null,
   "metadata": {},
   "outputs": [
    {
     "name": "stdout",
     "output_type": "stream",
     "text": [
      "========================================================================================================================\n",
      "Base model\n",
      "========================================================================================================================\n",
      "Text-to-Image Retrieval Metrics:\n",
      "R@1: 39.62%\n",
      "R@2: 50.40%\n",
      "R@5: 64.62%\n",
      "Image-to-Text Retrieval Metrics:\n",
      "R@1: 36.92%\n",
      "R@2: 47.74%\n",
      "R@5: 61.44%\n",
      "\n",
      "========================================================================================================================\n",
      "Compression model\n",
      "========================================================================================================================\n",
      "partition:\n",
      "no_partition:\n"
     ]
    },
    {
     "name": "stderr",
     "output_type": "stream",
     "text": [
      "/tmp/ipykernel_113425/2114405807.py:22: FutureWarning: You are using `torch.load` with `weights_only=False` (the current default value), which uses the default pickle module implicitly. It is possible to construct malicious pickle data which will execute arbitrary code during unpickling (See https://github.com/pytorch/pytorch/blob/main/SECURITY.md#untrusted-models for more details). In a future release, the default value for `weights_only` will be flipped to `True`. This limits the functions that could be executed during unpickling. Arbitrary objects will no longer be allowed to be loaded via this mode unless they are explicitly allowlisted by the user via `torch.serialization.add_safe_globals`. We recommend you start setting `weights_only=True` for any use case where you don't have full control of the loaded file. Please open an issue on GitHub for any issues related to this experimental feature.\n",
      "  baseline_metrics: TensorDict = torch.load(baseline_fname, map_location=DEVICE)\n",
      "/tmp/ipykernel_113425/2114405807.py:33: FutureWarning: You are using `torch.load` with `weights_only=False` (the current default value), which uses the default pickle module implicitly. It is possible to construct malicious pickle data which will execute arbitrary code during unpickling (See https://github.com/pytorch/pytorch/blob/main/SECURITY.md#untrusted-models for more details). In a future release, the default value for `weights_only` will be flipped to `True`. This limits the functions that could be executed during unpickling. Arbitrary objects will no longer be allowed to be loaded via this mode unless they are explicitly allowlisted by the user via `torch.serialization.add_safe_globals`. We recommend you start setting `weights_only=True` for any use case where you don't have full control of the loaded file. Please open an issue on GitHub for any issues related to this experimental feature.\n",
      "  k: torch.load(f\"experiments/saved_masks/{k}_mask.pt\", map_location=DEVICE)\n",
      "/tmp/ipykernel_113425/2114405807.py:59: FutureWarning: You are using `torch.load` with `weights_only=False` (the current default value), which uses the default pickle module implicitly. It is possible to construct malicious pickle data which will execute arbitrary code during unpickling (See https://github.com/pytorch/pytorch/blob/main/SECURITY.md#untrusted-models for more details). In a future release, the default value for `weights_only` will be flipped to `True`. This limits the functions that could be executed during unpickling. Arbitrary objects will no longer be allowed to be loaded via this mode unless they are explicitly allowlisted by the user via `torch.serialization.add_safe_globals`. We recommend you start setting `weights_only=True` for any use case where you don't have full control of the loaded file. Please open an issue on GitHub for any issues related to this experimental feature.\n",
      "  compression_metrics: TensorDict = torch.load(compression_fname, map_location=DEVICE)\n"
     ]
    },
    {
     "ename": "ValueError",
     "evalue": "too many values to unpack (expected 2)",
     "output_type": "error",
     "traceback": [
      "\u001b[0;31m---------------------------------------------------------------------------\u001b[0m",
      "\u001b[0;31mValueError\u001b[0m                                Traceback (most recent call last)",
      "Cell \u001b[0;32mIn[15], line 72\u001b[0m\n\u001b[1;32m     66\u001b[0m \u001b[38;5;28;01mfor\u001b[39;00m i, (rk, rv) \u001b[38;5;129;01min\u001b[39;00m \u001b[38;5;28menumerate\u001b[39m(utils\u001b[38;5;241m.\u001b[39msort_dict(metric_dict)\u001b[38;5;241m.\u001b[39mitems()):\n\u001b[1;32m     67\u001b[0m     plt\u001b[38;5;241m.\u001b[39mplot(\n\u001b[1;32m     68\u001b[0m         x\u001b[38;5;241m.\u001b[39mnumpy(force\u001b[38;5;241m=\u001b[39m\u001b[38;5;28;01mTrue\u001b[39;00m), torch\u001b[38;5;241m.\u001b[39mfull((n_rank,), rv)\u001b[38;5;241m.\u001b[39mnumpy(force\u001b[38;5;241m=\u001b[39m\u001b[38;5;28;01mTrue\u001b[39;00m),\n\u001b[1;32m     69\u001b[0m         color\u001b[38;5;241m=\u001b[39mcolors[i] \u001b[38;5;241m*\u001b[39m \u001b[38;5;241m0.5\u001b[39m, linestyle\u001b[38;5;241m=\u001b[39m\u001b[38;5;124m\"\u001b[39m\u001b[38;5;124m--\u001b[39m\u001b[38;5;124m\"\u001b[39m, label\u001b[38;5;241m=\u001b[39m\u001b[38;5;124mf\u001b[39m\u001b[38;5;124m\"\u001b[39m\u001b[38;5;124mBaseline \u001b[39m\u001b[38;5;132;01m{\u001b[39;00mrk\u001b[38;5;132;01m}\u001b[39;00m\u001b[38;5;124m\"\u001b[39m\n\u001b[1;32m     70\u001b[0m     )\n\u001b[0;32m---> 72\u001b[0m     \u001b[38;5;28;01mfor\u001b[39;00m j, (ck, cv) \u001b[38;5;129;01min\u001b[39;00m \u001b[38;5;28menumerate\u001b[39m(utils\u001b[38;5;241m.\u001b[39msort_dict(metrics)):\n\u001b[1;32m     73\u001b[0m         plt\u001b[38;5;241m.\u001b[39mplot(\n\u001b[1;32m     74\u001b[0m             x\u001b[38;5;241m.\u001b[39mnumpy(force\u001b[38;5;241m=\u001b[39m\u001b[38;5;28;01mTrue\u001b[39;00m), cv[retrieval_type, rk]\u001b[38;5;241m.\u001b[39mnumpy(force\u001b[38;5;241m=\u001b[39m\u001b[38;5;28;01mTrue\u001b[39;00m),\n\u001b[1;32m     75\u001b[0m             color\u001b[38;5;241m=\u001b[39mcolors[i], marker\u001b[38;5;241m=\u001b[39mmarker_dict[ck], markersize\u001b[38;5;241m=\u001b[39m\u001b[38;5;241m8\u001b[39m, label\u001b[38;5;241m=\u001b[39m\u001b[38;5;124mf\u001b[39m\u001b[38;5;124m\"\u001b[39m\u001b[38;5;132;01m{\u001b[39;00mck\u001b[38;5;132;01m}\u001b[39;00m\u001b[38;5;124m \u001b[39m\u001b[38;5;132;01m{\u001b[39;00mrk\u001b[38;5;132;01m}\u001b[39;00m\u001b[38;5;124m\"\u001b[39m\n\u001b[1;32m     76\u001b[0m         )\n\u001b[1;32m     78\u001b[0m plt\u001b[38;5;241m.\u001b[39mxlabel(\u001b[38;5;124m\"\u001b[39m\u001b[38;5;124mRank\u001b[39m\u001b[38;5;124m\"\u001b[39m)\n",
      "\u001b[0;31mValueError\u001b[0m: too many values to unpack (expected 2)"
     ]
    },
    {
     "data": {
      "image/png": "[encoded data removed]",
      "text/plain": [
       "<Figure size 640x480 with 1 Axes>"
      ]
     },
     "metadata": {},
     "output_type": "display_data"
    }
   ],
   "source": [
    "from dataset.evaluation import ImageTextDataset, run_retrieval_evaluation, print_retrieval_metrics, DEFAULT_DATASET\n",
    "from modeling.image_features import ImageFeatures\n",
    "from modeling.openclip_vit import OpenCLIPViT\n",
    "from modeling.vit_compression import OpenCLIPCompressionViT\n",
    "\n",
    "\n",
    "utils.reset_seed()\n",
    "# Run evaluation\n",
    "evaluation_kwargs: Dict[str, Any] = {\"subsample\": 5000, \"n_ev\": 1}\n",
    "\n",
    "# Evaluate base model\n",
    "print(\"=\" * 120)\n",
    "print(\"Base model\")\n",
    "print(\"=\" * 120)\n",
    "\n",
    "baseline_fname = f\"{OUTPUT_DIR}/metrics/baseline.pt\"\n",
    "if not os.path.exists(baseline_fname):\n",
    "    baseline_model = OpenCLIPViT().to(DEVICE)\n",
    "    baseline_metrics: TensorDict = run_retrieval_evaluation(baseline_model, **evaluation_kwargs)\n",
    "    torch.save(baseline_metrics, baseline_fname)\n",
    "else:\n",
    "    baseline_metrics: TensorDict = torch.load(baseline_fname, map_location=DEVICE)\n",
    "print_retrieval_metrics(baseline_metrics)\n",
    "print()\n",
    "\n",
    "# Evaluate compression model\n",
    "print(\"=\" * 120)\n",
    "print(\"Compression model\")\n",
    "print(\"=\" * 120)\n",
    "\n",
    "mask_dict_dict: Dict[str, Dict[str, torch.Tensor]] = {\n",
    "    \"partition\": {\n",
    "        k: torch.load(f\"experiments/saved_masks/{k}_mask.pt\", map_location=DEVICE)\n",
    "        for k in (\"MA\", \"Artifact\")\n",
    "    },\n",
    "    \"no_partition\": {},\n",
    "}\n",
    "\n",
    "\n",
    "n_rank = 12\n",
    "colors: List[np.ndarray] = [np.array(matplotlib.colors.to_rgb(c)) for c in matplotlib.rcParams[\"axes.prop_cycle\"].by_key()[\"color\"]]\n",
    "metrics: Dict[str, TensorDict] = {}\n",
    "for k, mask_dict in mask_dict_dict.items():\n",
    "    print(f\"{k}:\")\n",
    "    \n",
    "    x = torch.arange(1, n_rank + 1)\n",
    "    metric_list: List[TensorDict] = []\n",
    "    for rank in range(1, n_rank + 1):\n",
    "        compression_fname = f\"{OUTPUT_DIR}/metrics/compression_{k}_rank{rank}.pt\"\n",
    "        if not os.path.exists(compression_fname):\n",
    "            print(f\"Rank {rank}\")\n",
    "            dataset: ImageTextDataset = copy.copy(DEFAULT_DATASET)\n",
    "            dataset.load_cache({\"mask_dict\": mask_dict})\n",
    "\n",
    "            compression_model = OpenCLIPCompressionViT(\"compression\", rank=rank, mask_layer=12)\n",
    "            compression_metrics: TensorDict = run_retrieval_evaluation(compression_model, dataset=dataset, **evaluation_kwargs)\n",
    "            torch.save(compression_metrics, compression_fname)\n",
    "        else:\n",
    "            compression_metrics: TensorDict = torch.load(compression_fname, map_location=DEVICE)\n",
    "        metric_list.append(compression_metrics)\n",
    "    metrics[k] = torch.stack(metric_list, dim=0)\n",
    "\n",
    "marker_dict: Dict[str, str] = dict(zip(metrics.keys(), (\"x\", \".\")))\n",
    "for retrieval_type, metric_dict in baseline_metrics.items():\n",
    "    metric_dict: TensorDict\n",
    "    for i, (rk, rv) in enumerate(utils.sort_dict(metric_dict).items()):\n",
    "        plt.plot(\n",
    "            x.numpy(force=True), torch.full((n_rank,), rv).numpy(force=True),\n",
    "            color=colors[i] * 0.5, linestyle=\"--\", label=f\"Baseline {rk}\"\n",
    "        )\n",
    "        \n",
    "        for j, (ck, cv) in enumerate(utils.sort_dict(metrics).items()):\n",
    "            plt.plot(\n",
    "                x.numpy(force=True), cv[retrieval_type, rk].numpy(force=True),\n",
    "                color=colors[i], marker=marker_dict[ck], markersize=8, label=f\"{ck} {rk}\"\n",
    "            )\n",
    "    \n",
    "    plt.xlabel(\"Rank\")\n",
    "    plt.ylabel(\"Retrieval score\")\n",
    "    plt.ylim(bottom=0.0)\n",
    "    plt.title(retrieval_type)\n",
    "    \n",
    "    plt.legend()\n",
    "    plt.show()"
   ]
  },
  {
   "cell_type": "code",
   "execution_count": null,
   "metadata": {},
   "outputs": [],
   "source": []
  }
 ],
 "metadata": {
  "kernelspec": {
   "display_name": "base",
   "language": "python",
   "name": "python3"
  },
  "language_info": {
   "codemirror_mode": {
    "name": "ipython",
    "version": 3
   },
   "file_extension": ".py",
   "mimetype": "text/x-python",
   "name": "python",
   "nbconvert_exporter": "python",
   "pygments_lexer": "ipython3",
   "version": "3.10.13"
  }
 },
 "nbformat": 4,
 "nbformat_minor": 2
}
