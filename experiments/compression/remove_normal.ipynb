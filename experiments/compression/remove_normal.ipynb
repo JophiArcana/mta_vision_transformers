{
 "cells": [
  {
   "cell_type": "code",
   "execution_count": 1,
   "metadata": {},
   "outputs": [
    {
     "name": "stdout",
     "output_type": "stream",
     "text": [
      "Seed: 1149496617\n"
     ]
    }
   ],
   "source": [
    "import copy\n",
    "import itertools\n",
    "import os\n",
    "import sys\n",
    "sys.path.append(\"/workspace/mta_vision_transformers/\")\n",
    "from collections import OrderedDict\n",
    "from typing import Any, Callable, Dict, Iterable, List, Set, Tuple\n",
    "\n",
    "import matplotlib\n",
    "import matplotlib.colors\n",
    "import numpy as np\n",
    "import einops\n",
    "import torch\n",
    "import torch.nn as nn\n",
    "import torch.nn.functional as Fn\n",
    "import torch.utils.data\n",
    "from matplotlib import pyplot as plt\n",
    "from tensordict import TensorDict\n",
    "from torch.utils._pytree import tree_flatten\n",
    "\n",
    "from core.monitor import Monitor\n",
    "from infrastructure import utils\n",
    "from infrastructure.settings import DEVICE, OUTPUT_DEVICE, DTYPE\n",
    "from dataset.construct import ImageDataset\n",
    "from dataset.library import DATASETS\n",
    "\n",
    "\n",
    "dataset_name, n_classes = DATASETS[\"Common\"][1]\n",
    "OUTPUT_DIR = \"experiments/compression\"\n",
    "if not os.path.exists(OUTPUT_DIR):\n",
    "    os.makedirs(OUTPUT_DIR, exist_ok=True)\n",
    "    \n",
    "# Ocean: 901085904\n",
    "# Rose: 100390212\n",
    "torch.set_printoptions(linewidth=400, sci_mode=False)"
   ]
  },
  {
   "cell_type": "code",
   "execution_count": 4,
   "metadata": {},
   "outputs": [
    {
     "name": "stdout",
     "output_type": "stream",
     "text": [
      "========================================================================================================================\n",
      "Base model\n",
      "========================================================================================================================\n",
      "Text-to-Image Retrieval Metrics:\n",
      "R@1: 39.62%\n",
      "R@2: 50.40%\n",
      "R@5: 64.62%\n",
      "Image-to-Text Retrieval Metrics:\n",
      "R@1: 36.92%\n",
      "R@2: 47.74%\n",
      "R@5: 61.44%\n",
      "\n",
      "========================================================================================================================\n",
      "Compression model\n",
      "========================================================================================================================\n",
      "MA:\n"
     ]
    },
    {
     "name": "stderr",
     "output_type": "stream",
     "text": [
      "/tmp/ipykernel_7375/2610280472.py:22: FutureWarning: You are using `torch.load` with `weights_only=False` (the current default value), which uses the default pickle module implicitly. It is possible to construct malicious pickle data which will execute arbitrary code during unpickling (See https://github.com/pytorch/pytorch/blob/main/SECURITY.md#untrusted-models for more details). In a future release, the default value for `weights_only` will be flipped to `True`. This limits the functions that could be executed during unpickling. Arbitrary objects will no longer be allowed to be loaded via this mode unless they are explicitly allowlisted by the user via `torch.serialization.add_safe_globals`. We recommend you start setting `weights_only=True` for any use case where you don't have full control of the loaded file. Please open an issue on GitHub for any issues related to this experimental feature.\n",
      "  baseline_metrics: TensorDict = torch.load(baseline_fname, map_location=DEVICE)\n",
      "/tmp/ipykernel_7375/2610280472.py:34: FutureWarning: You are using `torch.load` with `weights_only=False` (the current default value), which uses the default pickle module implicitly. It is possible to construct malicious pickle data which will execute arbitrary code during unpickling (See https://github.com/pytorch/pytorch/blob/main/SECURITY.md#untrusted-models for more details). In a future release, the default value for `weights_only` will be flipped to `True`. This limits the functions that could be executed during unpickling. Arbitrary objects will no longer be allowed to be loaded via this mode unless they are explicitly allowlisted by the user via `torch.serialization.add_safe_globals`. We recommend you start setting `weights_only=True` for any use case where you don't have full control of the loaded file. Please open an issue on GitHub for any issues related to this experimental feature.\n",
      "  MA_mask: torch.Tensor = torch.load(f\"experiments/saved_masks/MA_mask.pt\", map_location=DEVICE)\n",
      "/tmp/ipykernel_7375/2610280472.py:35: FutureWarning: You are using `torch.load` with `weights_only=False` (the current default value), which uses the default pickle module implicitly. It is possible to construct malicious pickle data which will execute arbitrary code during unpickling (See https://github.com/pytorch/pytorch/blob/main/SECURITY.md#untrusted-models for more details). In a future release, the default value for `weights_only` will be flipped to `True`. This limits the functions that could be executed during unpickling. Arbitrary objects will no longer be allowed to be loaded via this mode unless they are explicitly allowlisted by the user via `torch.serialization.add_safe_globals`. We recommend you start setting `weights_only=True` for any use case where you don't have full control of the loaded file. Please open an issue on GitHub for any issues related to this experimental feature.\n",
      "  AS_mask: torch.Tensor = torch.load(f\"experiments/saved_masks/AS_mask.pt\", map_location=DEVICE)\n",
      "100%|██████████| 157/157 [00:55<00:00,  2.84it/s]"
     ]
    },
    {
     "name": "stdout",
     "output_type": "stream",
     "text": [
      "Text-to-Image Retrieval Metrics:\n",
      "R@1: 39.64%\n",
      "R@2: 50.50%\n",
      "R@5: 64.68%\n",
      "Image-to-Text Retrieval Metrics:\n",
      "R@1: 37.24%\n",
      "R@2: 47.88%\n",
      "R@5: 61.36%\n"
     ]
    },
    {
     "name": "stderr",
     "output_type": "stream",
     "text": [
      "\n"
     ]
    }
   ],
   "source": [
    "from dataset.evaluation import ImageTextDataset, run_retrieval_evaluation, print_retrieval_metrics, DEFAULT_DATASET\n",
    "from modeling.image_features import ImageFeatures\n",
    "from modeling.openclip_vit import OpenCLIPViT\n",
    "from modeling.vit_attention import OpenCLIPAttentionViT\n",
    "\n",
    "\n",
    "utils.reset_seed()\n",
    "# Run evaluation\n",
    "evaluation_kwargs: Dict[str, Any] = {\"subsample\": 5000, \"n_ev\": 1}\n",
    "\n",
    "# Evaluate base model\n",
    "print(\"=\" * 120)\n",
    "print(\"Base model\")\n",
    "print(\"=\" * 120)\n",
    "\n",
    "baseline_fname = f\"{OUTPUT_DIR}/metrics/baseline.pt\"\n",
    "if not os.path.exists(baseline_fname):\n",
    "    baseline_model = OpenCLIPViT().to(DEVICE)\n",
    "    baseline_metrics: TensorDict = run_retrieval_evaluation(baseline_model, **evaluation_kwargs)\n",
    "    torch.save(baseline_metrics, baseline_fname)\n",
    "else:\n",
    "    baseline_metrics: TensorDict = torch.load(baseline_fname, map_location=DEVICE)\n",
    "print_retrieval_metrics(baseline_metrics)\n",
    "print()\n",
    "\n",
    "# Evaluate compression model\n",
    "print(\"=\" * 120)\n",
    "print(\"Compression model\")\n",
    "print(\"=\" * 120)\n",
    "\n",
    "mode: OpenCLIPAttentionViT.ModeOptions = \"sink\"\n",
    "mask_type: OpenCLIPAttentionViT.MaskOptions = \"X -> T\"\n",
    "\n",
    "MA_mask: torch.Tensor = torch.load(f\"experiments/saved_masks/MA_mask.pt\", map_location=DEVICE)\n",
    "AS_mask: torch.Tensor = torch.load(f\"experiments/saved_masks/AS_mask.pt\", map_location=DEVICE)\n",
    "mask_dict: Dict[str, torch.Tensor] = {\n",
    "    # \"all\": (torch.arange(ImageFeatures.N + 1) > 0).expand((len(DEFAULT_DATASET), ImageFeatures.N + 1)),\n",
    "    # \"normal\": (torch.arange(ImageFeatures.N + 1) > 0) * ~AS_mask,\n",
    "    \"MA\": MA_mask,\n",
    "    # \"AS\": AS_mask,\n",
    "}\n",
    "\n",
    "lo, hi = 13, 24\n",
    "for k, mask in mask_dict.items():\n",
    "    print(f\"{k}:\")\n",
    "    compression_fname = f\"{OUTPUT_DIR}/metrics/{mode}_({mask_type})_{k}[{lo}:{hi}].pt\"\n",
    "    if not os.path.exists(compression_fname):\n",
    "        mask_layers: Iterable[int] = range(lo, hi)\n",
    "\n",
    "        dataset = copy.copy(DEFAULT_DATASET)\n",
    "        dataset.load_cache({\"mask\": mask})\n",
    "        compression_model = OpenCLIPAttentionViT({i: (mode, mask_type) for i in range(lo, hi)}).to(DEVICE)\n",
    "        compression_metrics: TensorDict = run_retrieval_evaluation(compression_model, dataset=dataset, **evaluation_kwargs)\n",
    "        torch.save(compression_metrics, compression_fname)\n",
    "    else:\n",
    "        compression_metrics: TensorDict = torch.load(compression_fname, map_location=DEVICE)\n",
    "    print_retrieval_metrics(compression_metrics)\n",
    "\n",
    "# result_grid = np.empty((ImageFeatures.NUM_LAYERS, ImageFeatures.NUM_LAYERS), dtype=object).tolist()\n",
    "# for lo in range(12, ImageFeatures.NUM_LAYERS):\n",
    "#     for hi in range(lo + 1, ImageFeatures.NUM_LAYERS + 1):\n",
    "#         compression_fname = f\"{OUTPUT_DIR}/metrics/remove_normal[{lo}:{hi}].pt\"\n",
    "#         if not os.path.exists(compression_fname):\n",
    "#             mask_layers: Iterable[int] = range(lo, hi)\n",
    "\n",
    "#             AS_mask: torch.Tensor = torch.load(f\"experiments/saved_masks/AS_mask.pt\", map_location=DEVICE)\n",
    "#             normal_mask: torch.Tensor = (torch.arange(ImageFeatures.N + 1) > 0) * ~AS_mask\n",
    "\n",
    "#             dataset = copy.copy(DEFAULT_DATASET)\n",
    "#             dataset.load_cache({\"mask\": normal_mask})\n",
    "#             compression_model = OpenCLIPAttentionViT(mode, mask_type, mask_layers).to(DEVICE)\n",
    "#             compression_metrics: TensorDict = run_retrieval_evaluation(compression_model, dataset=dataset, **evaluation_kwargs)\n",
    "#             torch.save(compression_metrics, compression_fname)\n",
    "#         else:\n",
    "#             compression_metrics: TensorDict = torch.load(compression_fname, map_location=DEVICE)\n",
    "        \n",
    "#         result_grid[lo, hi] = compression_metrics\n",
    "#         print_retrieval_metrics(compression_metrics)"
   ]
  },
  {
   "cell_type": "code",
   "execution_count": null,
   "metadata": {},
   "outputs": [],
   "source": []
  }
 ],
 "metadata": {
  "kernelspec": {
   "display_name": "base",
   "language": "python",
   "name": "python3"
  },
  "language_info": {
   "codemirror_mode": {
    "name": "ipython",
    "version": 3
   },
   "file_extension": ".py",
   "mimetype": "text/x-python",
   "name": "python",
   "nbconvert_exporter": "python",
   "pygments_lexer": "ipython3",
   "version": "3.10.13"
  }
 },
 "nbformat": 4,
 "nbformat_minor": 2
}
